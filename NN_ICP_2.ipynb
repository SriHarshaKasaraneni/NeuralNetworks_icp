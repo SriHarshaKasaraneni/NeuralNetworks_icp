{
  "cells": [
    {
      "cell_type": "markdown",
      "source": [
        "Question-1"
      ],
      "metadata": {
        "id": "YkvtYzPoEdet"
      }
    },
    {
      "cell_type": "code",
      "source": [
        "def full_name(first_name, last_name):\n",
        "    return first_name+\" \"+ last_name\n",
        "\n",
        "def string_alternative(full_name):\n",
        "    return full_name[::2]\n",
        "\n",
        "def main():\n",
        "    first_name = input(\"Enter your first name: \")\n",
        "    last_name = input(\"Enter your last name: \")\n",
        "    full_name_str =first_name+\" \"+ last_name\n",
        "    print(\"Full Name:\", full_name_str)\n",
        "\n",
        "    alternative_string = string_alternative(full_name_str)\n",
        "    print(\"Alternative Characters Output:\", alternative_string)\n",
        "main()"
      ],
      "metadata": {
        "id": "IcDJ3RjDEjho",
        "outputId": "9af8d96b-60e5-4ae3-8705-da1ef6eca38e",
        "colab": {
          "base_uri": "https://localhost:8080/"
        }
      },
      "execution_count": 1,
      "outputs": [
        {
          "output_type": "stream",
          "name": "stdout",
          "text": [
            "Enter your first name: sri harsha\n",
            "Enter your last name: kasaraneni\n",
            "Full Name: sri harsha kasaraneni\n",
            "Alternative Characters Output: sihrh aaaei\n"
          ]
        }
      ]
    },
    {
      "cell_type": "markdown",
      "source": [
        "Question 2"
      ],
      "metadata": {
        "id": "ugKNtxqdFNQ5"
      }
    },
    {
      "cell_type": "code",
      "source": [
        "with open('Input.txt', 'r') as infile, open('Output.txt', 'w') as outfile:\n",
        "  word_count={}\n",
        "  lines = infile.readlines()\n",
        "  for line in lines:\n",
        "     words = line.strip().split()\n",
        "     for word in words:\n",
        "         if word in word_count:\n",
        "            word_count[word] += 1\n",
        "         else:\n",
        "            word_count[word] = 1\n",
        "  output_string = \"\" \"\\n\".join(lines) + \"\\n\\nWord_Count:\\n\\n\"\n",
        "  for word, count in word_count.items():\n",
        "    output_string += f\"{word}: {count}\\n\"\n",
        "\n",
        "  print(output_string)\n",
        "\n",
        "  outfile.write(output_string)"
      ],
      "metadata": {
        "id": "3StTBi5rFRRu",
        "outputId": "3e0946bb-c842-41a1-8ff7-82549a4d5cfc",
        "colab": {
          "base_uri": "https://localhost:8080/"
        }
      },
      "execution_count": 4,
      "outputs": [
        {
          "output_type": "stream",
          "name": "stdout",
          "text": [
            "Python Course\n",
            "\n",
            "Deep Learning Course\n",
            "\n",
            "Word_Count:\n",
            "\n",
            "Python: 1\n",
            "Course: 2\n",
            "Deep: 1\n",
            "Learning: 1\n",
            "\n"
          ]
        }
      ]
    },
    {
      "cell_type": "markdown",
      "source": [
        "Question 3"
      ],
      "metadata": {
        "id": "J-UTvLVxGwIi"
      }
    },
    {
      "cell_type": "code",
      "source": [
        "def convert_inches_cms():\n",
        "    num_customers = input(\"Enter the number of customers you will input: \")\n",
        "    if not num_customers.isdigit():\n",
        "        print(\"Please enter a valid integer for the number of heights.\")\n",
        "        return\n",
        "    list_size = int(num_customers)\n",
        "    heights_inches = []\n",
        "    for i in range(list_size):\n",
        "        while True:\n",
        "            input_height = input(f\"Enter height {i + 1} in inches: \")\n",
        "            if input_height.isdigit():\n",
        "                heights_inches.append(float(input_height))\n",
        "                break\n",
        "            else:\n",
        "                print(\"Please enter a valid number.\")\n",
        "    print(\"Collected heights in inches:\", heights_inches)\n",
        "    heights_cm = [height * 2.54 for height in heights_inches]\n",
        "    print(\"Converted heights in centimeters:\", heights_cm)\n",
        "convert_inches_cms()"
      ],
      "metadata": {
        "id": "8m_whDufGyrx",
        "outputId": "c0fc2cc4-f02b-43b2-d5d9-423ea167723f",
        "colab": {
          "base_uri": "https://localhost:8080/"
        }
      },
      "execution_count": 6,
      "outputs": [
        {
          "output_type": "stream",
          "name": "stdout",
          "text": [
            "Enter the number of customers you will input: 4\n",
            "Enter height 1 in inches: 150\n",
            "Enter height 2 in inches: 155\n",
            "Enter height 3 in inches: 145\n",
            "Enter height 4 in inches: 148\n",
            "Collected heights in inches: [150.0, 155.0, 145.0, 148.0]\n",
            "Converted heights in centimeters: [381.0, 393.7, 368.3, 375.92]\n"
          ]
        }
      ]
    }
  ],
  "metadata": {
    "colab": {
      "name": "Welcome To Colab",
      "provenance": []
    },
    "kernelspec": {
      "display_name": "Python 3",
      "name": "python3"
    }
  },
  "nbformat": 4,
  "nbformat_minor": 0
}