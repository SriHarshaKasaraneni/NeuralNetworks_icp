{
  "cells": [
    {
      "cell_type": "code",
      "execution_count": null,
      "metadata": {
        "id": "mDolX7uwCVkh"
      },
      "outputs": [],
      "source": [
        "Problem 1: String Manipulation"
      ]
    },
    {
      "cell_type": "code",
      "execution_count": 11,
      "metadata": {
        "colab": {
          "base_uri": "https://localhost:8080/"
        },
        "id": "f3yOGZFgDv7v",
        "outputId": "975d5b53-8ef2-4209-85d2-13e3d7f38a06"
      },
      "outputs": [
        {
          "output_type": "stream",
          "name": "stdout",
          "text": [
            "Enter the stringpython\n",
            "Initially : ['p', 'y', 't', 'h', 'o', 'n']\n",
            "After removing t and h : ['p', 'y', 'o', 'n']\n",
            "Reversed Result : noyp\n"
          ]
        }
      ],
      "source": [
        "user_input = list(input(\"Enter the string\"))\n",
        "print(\"Initially :\", user_input)\n",
        "if 't' in user_input:\n",
        "    user_input.remove('t')\n",
        "if 'h' in user_input:\n",
        "    user_input.remove('h')\n",
        "print(\"After removing t and h :\", user_input)\n",
        "user_input.reverse()\n",
        "result = ''.join(user_input)\n",
        "print(\"Reversed Result :\", result)\n"
      ]
    },
    {
      "cell_type": "code",
      "execution_count": null,
      "metadata": {
        "id": "pwpuxOH7H1FP"
      },
      "outputs": [],
      "source": [
        " List Manipulation"
      ]
    },
    {
      "cell_type": "code",
      "execution_count": null,
      "metadata": {
        "colab": {
          "base_uri": "https://localhost:8080/"
        },
        "id": "ld7IP3UaIAhf",
        "outputId": "8982e624-6d7b-4570-9edc-4ca6ff938545"
      },
      "outputs": [
        {
          "name": "stdout",
          "output_type": "stream",
          "text": [
            "1st Number21\n",
            "2nd Number24\n",
            "Addition: 45.0\n",
            "Subtraction: -3.0\n",
            "Multiplication: 504.0\n",
            "Division: 0.875\n"
          ]
        }
      ],
      "source": [
        "a=float(input(\"1st Number\"))\n",
        "b=float(input(\"2nd Number\"))\n",
        "print(\"Addition:\", a+b)\n",
        "print(\"Subtraction:\", a-b)\n",
        "print(\"Multiplication:\",a*b)\n",
        "print(\"Division:\", a/b)"
      ]
    },
    {
      "cell_type": "markdown",
      "metadata": {
        "id": "EyiBFWRExbkU"
      },
      "source": [
        "task 2"
      ]
    },
    {
      "cell_type": "code",
      "execution_count": null,
      "metadata": {
        "colab": {
          "base_uri": "https://localhost:8080/"
        },
        "id": "PJzyeTTBxd66",
        "outputId": "050b3c37-eabb-4b91-dfb1-9ec75c442c55"
      },
      "outputs": [
        {
          "name": "stdout",
          "output_type": "stream",
          "text": [
            "Input a  sentence: python makes life easier\n",
            "Modified sentence: pythons makes life easier\n"
          ]
        }
      ],
      "source": [
        "str1 = input(\"Input a  sentence: \")\n",
        "modified_sentence= str1.replace('python', 'pythons')\n",
        "print(\"Modified sentence:\", modified_sentence)"
      ]
    },
    {
      "cell_type": "markdown",
      "metadata": {
        "id": "LQTMODXuH1hm"
      },
      "source": [
        "task 3"
      ]
    },
    {
      "cell_type": "code",
      "execution_count": null,
      "metadata": {
        "colab": {
          "base_uri": "https://localhost:8080/"
        },
        "id": "HGDiylEGwRxp",
        "outputId": "676d4eae-8d5a-4293-ac7d-672f33d14aa8"
      },
      "outputs": [
        {
          "name": "stdout",
          "output_type": "stream",
          "text": [
            "Enter the marks : 95\n",
            "Your grade is: A\n"
          ]
        }
      ],
      "source": [
        "score = float(input(\"Enter the marks : \"))\n",
        "if 90 <= score <= 100:\n",
        "    grade = 'A'\n",
        "elif 80 <= score < 90:\n",
        "    grade = 'B'\n",
        "elif 70 <= score < 80:\n",
        "    grade = 'C'\n",
        "elif 60 <= score < 70:\n",
        "    grade = 'D'\n",
        "elif 0 <= score < 60:\n",
        "    grade = 'F'\n",
        "else:\n",
        "    grade = 'Invalid score'\n",
        "\n",
        "print(\"Your grade is:\", grade)"
      ]
    },
    {
      "cell_type": "markdown",
      "metadata": {
        "id": "7q6uI3jZDtXr"
      },
      "source": []
    }
  ],
  "metadata": {
    "colab": {
      "provenance": []
    },
    "kernelspec": {
      "display_name": "Python 3",
      "name": "python3"
    },
    "language_info": {
      "name": "python"
    }
  },
  "nbformat": 4,
  "nbformat_minor": 0
}